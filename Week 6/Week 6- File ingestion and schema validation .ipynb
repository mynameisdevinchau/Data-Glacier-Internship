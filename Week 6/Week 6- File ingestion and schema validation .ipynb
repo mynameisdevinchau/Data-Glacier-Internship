{
  "cells": [
    {
      "cell_type": "code",
      "execution_count": 1,
      "metadata": {
        "colab": {
          "base_uri": "https://localhost:8080/"
        },
        "id": "CHPpgGEvGrWY",
        "outputId": "5534a844-e706-456e-e19c-0f61d93df5b2"
      },
      "outputs": [
        {
          "name": "stdout",
          "output_type": "stream",
          "text": [
            "Requirement already satisfied: dask in /Library/Frameworks/Python.framework/Versions/3.12/lib/python3.12/site-packages (2024.12.0)\n",
            "Requirement already satisfied: click>=8.1 in /Library/Frameworks/Python.framework/Versions/3.12/lib/python3.12/site-packages (from dask) (8.1.7)\n",
            "Requirement already satisfied: cloudpickle>=3.0.0 in /Library/Frameworks/Python.framework/Versions/3.12/lib/python3.12/site-packages (from dask) (3.1.0)\n",
            "Requirement already satisfied: fsspec>=2021.09.0 in /Library/Frameworks/Python.framework/Versions/3.12/lib/python3.12/site-packages (from dask) (2024.10.0)\n",
            "Requirement already satisfied: packaging>=20.0 in /Library/Frameworks/Python.framework/Versions/3.12/lib/python3.12/site-packages (from dask) (24.1)\n",
            "Requirement already satisfied: partd>=1.4.0 in /Library/Frameworks/Python.framework/Versions/3.12/lib/python3.12/site-packages (from dask) (1.4.2)\n",
            "Requirement already satisfied: pyyaml>=5.3.1 in /Library/Frameworks/Python.framework/Versions/3.12/lib/python3.12/site-packages (from dask) (6.0.2)\n",
            "Requirement already satisfied: toolz>=0.10.0 in /Library/Frameworks/Python.framework/Versions/3.12/lib/python3.12/site-packages (from dask) (1.0.0)\n",
            "Requirement already satisfied: locket in /Library/Frameworks/Python.framework/Versions/3.12/lib/python3.12/site-packages (from partd>=1.4.0->dask) (1.0.0)\n",
            "Requirement already satisfied: pandas in /Library/Frameworks/Python.framework/Versions/3.12/lib/python3.12/site-packages (2.2.3)\n",
            "Requirement already satisfied: numpy>=1.26.0 in /Library/Frameworks/Python.framework/Versions/3.12/lib/python3.12/site-packages (from pandas) (2.2.0)\n",
            "Requirement already satisfied: python-dateutil>=2.8.2 in /Library/Frameworks/Python.framework/Versions/3.12/lib/python3.12/site-packages (from pandas) (2.9.0.post0)\n",
            "Requirement already satisfied: pytz>=2020.1 in /Library/Frameworks/Python.framework/Versions/3.12/lib/python3.12/site-packages (from pandas) (2024.2)\n",
            "Requirement already satisfied: tzdata>=2022.7 in /Library/Frameworks/Python.framework/Versions/3.12/lib/python3.12/site-packages (from pandas) (2024.2)\n",
            "Requirement already satisfied: six>=1.5 in /Library/Frameworks/Python.framework/Versions/3.12/lib/python3.12/site-packages (from python-dateutil>=2.8.2->pandas) (1.16.0)\n",
            "Requirement already satisfied: pip-install-test in /Library/Frameworks/Python.framework/Versions/3.12/lib/python3.12/site-packages (0.5)\n"
          ]
        }
      ],
      "source": [
        "!pip3 install dask\n",
        "!pip3 install pandas\n",
        "!pip3 install pip-install-test"
      ]
    },
    {
      "cell_type": "markdown",
      "metadata": {
        "id": "cdMC3qlogT7i"
      },
      "source": [
        "get all my imports"
      ]
    },
    {
      "cell_type": "code",
      "execution_count": 2,
      "metadata": {
        "id": "hEu1SwFV1noO"
      },
      "outputs": [
        {
          "name": "stderr",
          "output_type": "stream",
          "text": [
            "/Library/Frameworks/Python.framework/Versions/3.12/lib/python3.12/site-packages/dask/dataframe/__init__.py:49: FutureWarning: \n",
            "Dask dataframe query planning is disabled because dask-expr is not installed.\n",
            "\n",
            "You can install it with `pip install dask[dataframe]` or `conda install dask`.\n",
            "This will raise in a future version.\n",
            "\n",
            "  warnings.warn(msg, FutureWarning)\n"
          ]
        }
      ],
      "source": [
        "import logging\n",
        "import os\n",
        "import subprocess\n",
        "import yaml\n",
        "import pandas as pd\n",
        "import datetime\n",
        "import gc\n",
        "import re\n",
        "import numpy as np\n",
        "import time\n",
        "import dask.dataframe as dd\n",
        "import gzip\n"
      ]
    },
    {
      "cell_type": "markdown",
      "metadata": {
        "id": "UiNsKvSBf5Dz"
      },
      "source": [
        "creates an artificial dataset"
      ]
    },
    {
      "cell_type": "code",
      "execution_count": null,
      "metadata": {
        "colab": {
          "base_uri": "https://localhost:8080/",
          "height": 460
        },
        "id": "uAraBl9CJFfM",
        "outputId": "1c85d113-4e0c-4b82-a1bb-be538b60ef0c"
      },
      "outputs": [
        {
          "ename": "KeyboardInterrupt",
          "evalue": "",
          "output_type": "error",
          "traceback": [
            "\u001b[0;31m---------------------------------------------------------------------------\u001b[0m",
            "\u001b[0;31mKeyboardInterrupt\u001b[0m                         Traceback (most recent call last)",
            "    \u001b[0;31m[... skipping hidden 1 frame]\u001b[0m\n",
            "\u001b[0;32m<ipython-input-3-41f463b0d0e8>\u001b[0m in \u001b[0;36m<cell line: 15>\u001b[0;34m()\u001b[0m\n\u001b[1;32m     15\u001b[0m     \u001b[0;34m\"StudentID\"\u001b[0m\u001b[0;34m:\u001b[0m \u001b[0;34m[\u001b[0m\u001b[0mi\u001b[0m \u001b[0;32mfor\u001b[0m \u001b[0mi\u001b[0m \u001b[0;32min\u001b[0m \u001b[0mrange\u001b[0m\u001b[0;34m(\u001b[0m\u001b[0;36m1\u001b[0m\u001b[0;34m,\u001b[0m \u001b[0mnum_rows\u001b[0m \u001b[0;34m+\u001b[0m \u001b[0;36m1\u001b[0m\u001b[0;34m)\u001b[0m\u001b[0;34m]\u001b[0m\u001b[0;34m,\u001b[0m\u001b[0;34m\u001b[0m\u001b[0;34m\u001b[0m\u001b[0m\n\u001b[0;32m---> 16\u001b[0;31m     \u001b[0;34m\"FirstName\"\u001b[0m\u001b[0;34m:\u001b[0m \u001b[0;34m[\u001b[0m\u001b[0mrandom_string\u001b[0m\u001b[0;34m(\u001b[0m\u001b[0;36m5\u001b[0m\u001b[0;34m)\u001b[0m \u001b[0;32mfor\u001b[0m \u001b[0m_\u001b[0m \u001b[0;32min\u001b[0m \u001b[0mrange\u001b[0m\u001b[0;34m(\u001b[0m\u001b[0mnum_rows\u001b[0m\u001b[0;34m)\u001b[0m\u001b[0;34m]\u001b[0m\u001b[0;34m,\u001b[0m\u001b[0;34m\u001b[0m\u001b[0;34m\u001b[0m\u001b[0m\n\u001b[0m\u001b[1;32m     17\u001b[0m     \u001b[0;34m\"LastName\"\u001b[0m\u001b[0;34m:\u001b[0m \u001b[0;34m[\u001b[0m\u001b[0mrandom_string\u001b[0m\u001b[0;34m(\u001b[0m\u001b[0;36m7\u001b[0m\u001b[0;34m)\u001b[0m \u001b[0;32mfor\u001b[0m \u001b[0m_\u001b[0m \u001b[0;32min\u001b[0m \u001b[0mrange\u001b[0m\u001b[0;34m(\u001b[0m\u001b[0mnum_rows\u001b[0m\u001b[0;34m)\u001b[0m\u001b[0;34m]\u001b[0m\u001b[0;34m,\u001b[0m\u001b[0;34m\u001b[0m\u001b[0;34m\u001b[0m\u001b[0m\n",
            "\u001b[0;32m<ipython-input-3-41f463b0d0e8>\u001b[0m in \u001b[0;36m<listcomp>\u001b[0;34m(.0)\u001b[0m\n\u001b[1;32m     15\u001b[0m     \u001b[0;34m\"StudentID\"\u001b[0m\u001b[0;34m:\u001b[0m \u001b[0;34m[\u001b[0m\u001b[0mi\u001b[0m \u001b[0;32mfor\u001b[0m \u001b[0mi\u001b[0m \u001b[0;32min\u001b[0m \u001b[0mrange\u001b[0m\u001b[0;34m(\u001b[0m\u001b[0;36m1\u001b[0m\u001b[0;34m,\u001b[0m \u001b[0mnum_rows\u001b[0m \u001b[0;34m+\u001b[0m \u001b[0;36m1\u001b[0m\u001b[0;34m)\u001b[0m\u001b[0;34m]\u001b[0m\u001b[0;34m,\u001b[0m\u001b[0;34m\u001b[0m\u001b[0;34m\u001b[0m\u001b[0m\n\u001b[0;32m---> 16\u001b[0;31m     \u001b[0;34m\"FirstName\"\u001b[0m\u001b[0;34m:\u001b[0m \u001b[0;34m[\u001b[0m\u001b[0mrandom_string\u001b[0m\u001b[0;34m(\u001b[0m\u001b[0;36m5\u001b[0m\u001b[0;34m)\u001b[0m \u001b[0;32mfor\u001b[0m \u001b[0m_\u001b[0m \u001b[0;32min\u001b[0m \u001b[0mrange\u001b[0m\u001b[0;34m(\u001b[0m\u001b[0mnum_rows\u001b[0m\u001b[0;34m)\u001b[0m\u001b[0;34m]\u001b[0m\u001b[0;34m,\u001b[0m\u001b[0;34m\u001b[0m\u001b[0;34m\u001b[0m\u001b[0m\n\u001b[0m\u001b[1;32m     17\u001b[0m     \u001b[0;34m\"LastName\"\u001b[0m\u001b[0;34m:\u001b[0m \u001b[0;34m[\u001b[0m\u001b[0mrandom_string\u001b[0m\u001b[0;34m(\u001b[0m\u001b[0;36m7\u001b[0m\u001b[0;34m)\u001b[0m \u001b[0;32mfor\u001b[0m \u001b[0m_\u001b[0m \u001b[0;32min\u001b[0m \u001b[0mrange\u001b[0m\u001b[0;34m(\u001b[0m\u001b[0mnum_rows\u001b[0m\u001b[0;34m)\u001b[0m\u001b[0;34m]\u001b[0m\u001b[0;34m,\u001b[0m\u001b[0;34m\u001b[0m\u001b[0;34m\u001b[0m\u001b[0m\n",
            "\u001b[0;32m<ipython-input-3-41f463b0d0e8>\u001b[0m in \u001b[0;36mrandom_string\u001b[0;34m(length)\u001b[0m\n\u001b[1;32m     10\u001b[0m \u001b[0;32mdef\u001b[0m \u001b[0mrandom_string\u001b[0m\u001b[0;34m(\u001b[0m\u001b[0mlength\u001b[0m\u001b[0;34m)\u001b[0m\u001b[0;34m:\u001b[0m\u001b[0;34m\u001b[0m\u001b[0;34m\u001b[0m\u001b[0m\n\u001b[0;32m---> 11\u001b[0;31m     \u001b[0;32mreturn\u001b[0m \u001b[0;34m''\u001b[0m\u001b[0;34m.\u001b[0m\u001b[0mjoin\u001b[0m\u001b[0;34m(\u001b[0m\u001b[0mrandom\u001b[0m\u001b[0;34m.\u001b[0m\u001b[0mchoices\u001b[0m\u001b[0;34m(\u001b[0m\u001b[0mstring\u001b[0m\u001b[0;34m.\u001b[0m\u001b[0mascii_letters\u001b[0m\u001b[0;34m,\u001b[0m \u001b[0mk\u001b[0m\u001b[0;34m=\u001b[0m\u001b[0mlength\u001b[0m\u001b[0;34m)\u001b[0m\u001b[0;34m)\u001b[0m\u001b[0;34m\u001b[0m\u001b[0;34m\u001b[0m\u001b[0m\n\u001b[0m\u001b[1;32m     12\u001b[0m \u001b[0;34m\u001b[0m\u001b[0m\n",
            "\u001b[0;31mKeyboardInterrupt\u001b[0m: ",
            "\nDuring handling of the above exception, another exception occurred:\n",
            "\u001b[0;31mKeyboardInterrupt\u001b[0m                         Traceback (most recent call last)",
            "\u001b[0;31mKeyboardInterrupt\u001b[0m: "
          ]
        }
      ],
      "source": [
        "import random\n",
        "import string\n",
        "\n",
        "num_rows = 60_000_000  #\n",
        "output_file_path = \"/Users/devinchau/Downloads/students_large.csv\"\n",
        "\n",
        "def random_string(length):\n",
        "    return ''.join(random.choices(string.ascii_letters, k=length))\n",
        "\n",
        "data = {\n",
        "    \"StudentID\": [i for i in range(1, num_rows + 1)],\n",
        "    \"FirstName\": [random_string(5) for _ in range(num_rows)],\n",
        "    \"LastName\": [random_string(7) for _ in range(num_rows)],\n",
        "    \"Age\": [random.randint(18, 30) for _ in range(num_rows)],\n",
        "    \"Gender\": [random.choice([\"Male\", \"Female\", \"Other\"]) for _ in range(num_rows)],\n",
        "    \"Grade\": [random.choice([\"A\", \"B\", \"C\", \"D\", \"F\"]) for _ in range(num_rows)],\n",
        "    \"Major\": [random.choice([\"Engineering\", \"Arts\", \"Science\", \"Business\", \"Law\"]) for _ in range(num_rows)],\n",
        "    \"GPA\": [round(random.uniform(2.0, 4.0), 2) for _ in range(num_rows)]\n",
        "}\n",
        "\n",
        "df = pd.DataFrame(data)\n",
        "df.to_csv(output_file_path, index=False)\n"
      ]
    },
    {
      "cell_type": "markdown",
      "metadata": {
        "id": "_lG25BoxgWsk"
      },
      "source": [
        "it already ran so i did not want to redownload the values. this is for the initial step"
      ]
    },
    {
      "cell_type": "code",
      "execution_count": 3,
      "metadata": {
        "colab": {
          "base_uri": "https://localhost:8080/"
        },
        "id": "CJTrS0Zl0l0n",
        "outputId": "dd352978-b3e9-44f0-affc-6e18e73d8e9d"
      },
      "outputs": [
        {
          "name": "stdout",
          "output_type": "stream",
          "text": [
            "File Size: 2658906692.00 bytes\n",
            "File Size: 2535.73 MB\n",
            "File Size: 2.48 GB\n"
          ]
        }
      ],
      "source": [
        "file_size = os.path.getsize(\"/Users/devinchau/Downloads/students_large.csv\")\n",
        "file_size_mb = file_size / (1024 * 1024)\n",
        "file_size_gb = file_size / (1024 * 1024 * 1024)\n",
        "print(f\"File Size: {file_size:.2f} bytes\")\n",
        "print(f\"File Size: {file_size_mb:.2f} MB\")\n",
        "print(f\"File Size: {file_size_gb:.2f} GB\")"
      ]
    },
    {
      "cell_type": "code",
      "execution_count": 4,
      "metadata": {
        "colab": {
          "base_uri": "https://localhost:8080/"
        },
        "id": "0TCSEdt4wRQR",
        "outputId": "bee1cc52-d50f-4a26-e3c2-85810e9ed719"
      },
      "outputs": [
        {
          "name": "stdout",
          "output_type": "stream",
          "text": [
            "Overwriting file.yaml\n"
          ]
        }
      ],
      "source": [
        "%%writefile file.yaml\n",
        "file_type: csv\n",
        "dataset_name: students_large\n",
        "file_name: students_large\n",
        "table_name: students_large\n",
        "inbound_delimiter: \",\"\n",
        "outbound_delimiter: \"|\"\n",
        "skip_leading_rows: 1\n",
        "columns:\n",
        "    - StudentID\n",
        "    - FirstName\n",
        "    - LastName\n",
        "    - Age\n",
        "    - Gender\n",
        "    - Major\n",
        "    - GPA"
      ]
    },
    {
      "cell_type": "code",
      "execution_count": 5,
      "metadata": {
        "colab": {
          "base_uri": "https://localhost:8080/"
        },
        "id": "m7dCd6D7w28K",
        "outputId": "0856ca2a-e988-4c6d-c2cf-dfe08cd5108a"
      },
      "outputs": [
        {
          "name": "stdout",
          "output_type": "stream",
          "text": [
            "Overwriting testutility.py\n"
          ]
        }
      ],
      "source": [
        "%%writefile testutility.py\n",
        "import logging\n",
        "import os\n",
        "import subprocess\n",
        "import yaml\n",
        "import pandas as pd\n",
        "import datetime\n",
        "import gc\n",
        "import re\n",
        "\n",
        "\n",
        "\n",
        "\n",
        "def read_config_file(filepath):\n",
        "    with open(filepath, 'r') as stream:\n",
        "        try:\n",
        "            return yaml.safe_load(stream)\n",
        "        except yaml.YAMLError as exc:\n",
        "            logging.error(exc)\n",
        "\n",
        "def replacer(string, char):\n",
        "    pattern = char + '{2,}'\n",
        "    string = re.sub(pattern, char, string)\n",
        "    return string\n",
        "\n",
        "def col_header_val(df,table_config):\n",
        "    '''\n",
        "    replace whitespaces in the column\n",
        "    and standardized column names\n",
        "    '''\n",
        "    df.columns = df.columns.str.lower()\n",
        "    df.columns = df.columns.str.replace('[^\\w]','_',regex=True)\n",
        "    df.columns = list(map(lambda x: x.strip('_'), list(df.columns)))\n",
        "    df.columns = list(map(lambda x: replacer(x,'_'), list(df.columns)))\n",
        "    expected_col = list(map(lambda x: x.lower(),  table_config['columns']))\n",
        "    expected_col.sort()\n",
        "    df.columns =list(map(lambda x: x.lower(), list(df.columns)))\n",
        "    df = df.reindex(sorted(df.columns), axis=1)\n",
        "    if len(df.columns) == len(expected_col) and list(expected_col)  == list(df.columns):\n",
        "        print(\"column name and column length validation passed\")\n",
        "        return 1\n",
        "    else:\n",
        "        print(\"column name and column length validation failed\")\n",
        "        mismatched_columns_file = list(set(df.columns).difference(expected_col))\n",
        "        print(\"Following File columns are not in the YAML file\",mismatched_columns_file)\n",
        "        missing_YAML_file = list(set(expected_col).difference(df.columns))\n",
        "        print(\"Following YAML columns are not in the file uploaded\",missing_YAML_file)\n",
        "        logging.info(f'df columns: {df.columns}')\n",
        "        logging.info(f'expected columns: {expected_col}')\n",
        "        return 0\n"
      ]
    },
    {
      "cell_type": "code",
      "execution_count": 38,
      "metadata": {},
      "outputs": [
        {
          "name": "stdout",
          "output_type": "stream",
          "text": [
            "<module 'testutility' from '/Users/devinchau/Desktop/testutility.py'>\n"
          ]
        },
        {
          "name": "stderr",
          "output_type": "stream",
          "text": [
            "/Users/devinchau/Desktop/testutility.py:31: SyntaxWarning: invalid escape sequence '\\w'\n",
            "  df.columns = df.columns.str.replace('[^\\w]','_',regex=True)\n"
          ]
        }
      ],
      "source": [
        "import importlib.util\n",
        "import sys\n",
        "\n",
        "module_path = '/Users/devinchau/Desktop/testutility.py'\n",
        "\n",
        "spec = importlib.util.spec_from_file_location(\"testutility\", module_path)\n",
        "testutility = importlib.util.module_from_spec(spec)\n",
        "sys.modules[\"testutility\"] = testutility  \n",
        "spec.loader.exec_module(testutility)\n",
        "\n",
        "print(testutility)\n"
      ]
    },
    {
      "cell_type": "code",
      "execution_count": 39,
      "metadata": {
        "id": "tgmVQgfiz2Gp"
      },
      "outputs": [
        {
          "name": "stdout",
          "output_type": "stream",
          "text": [
            "{'file_type': 'csv', 'dataset_name': 'students_large', 'file_name': 'students_large', 'table_name': 'students_large', 'inbound_delimiter': ',', 'outbound_delimiter': '|', 'skip_leading_rows': 1, 'columns': ['StudentID', 'FirstName', 'LastName', 'Age', 'Gender', 'Major', 'GPA']}\n"
          ]
        }
      ],
      "source": [
        "import testutility as util\n",
        "config_data = util.read_config_file(\"file.yaml\")\n",
        "print(config_data)\n",
        "     "
      ]
    },
    {
      "cell_type": "code",
      "execution_count": 40,
      "metadata": {
        "colab": {
          "base_uri": "https://localhost:8080/"
        },
        "id": "E4aYzjJnzW-I",
        "outputId": "99b6035d-d4fe-4ff9-80ee-50648aeb2a7e"
      },
      "outputs": [
        {
          "data": {
            "text/plain": [
              "{'file_type': 'csv',\n",
              " 'dataset_name': 'students_large',\n",
              " 'file_name': 'students_large',\n",
              " 'table_name': 'students_large',\n",
              " 'inbound_delimiter': ',',\n",
              " 'outbound_delimiter': '|',\n",
              " 'skip_leading_rows': 1,\n",
              " 'columns': ['StudentID',\n",
              "  'FirstName',\n",
              "  'LastName',\n",
              "  'Age',\n",
              "  'Gender',\n",
              "  'Major',\n",
              "  'GPA']}"
            ]
          },
          "execution_count": 40,
          "metadata": {},
          "output_type": "execute_result"
        }
      ],
      "source": [
        "config_data"
      ]
    },
    {
      "cell_type": "markdown",
      "metadata": {
        "id": "5rd0DK6Agn52"
      },
      "source": [
        "reading with pandas"
      ]
    },
    {
      "cell_type": "code",
      "execution_count": 42,
      "metadata": {
        "id": "UgYwX3Vh4yQK"
      },
      "outputs": [
        {
          "name": "stdout",
          "output_type": "stream",
          "text": [
            "Read csv with pandas:  370.4060688018799 sec\n"
          ]
        }
      ],
      "source": [
        "start = time.time()\n",
        "\n",
        "pandas = pd.read_csv(\"/Users/devinchau/Downloads/students_large.csv\",\n",
        "                     delimiter = config_data['inbound_delimiter'],\n",
        "                     header=0)\n",
        "\n",
        "end = time.time()\n",
        "print(\"Read csv with pandas: \",(end-start),\"sec\")"
      ]
    },
    {
      "cell_type": "markdown",
      "metadata": {
        "id": "XqT9rWKEgr8B"
      },
      "source": [
        "reading with dask"
      ]
    },
    {
      "cell_type": "code",
      "execution_count": 43,
      "metadata": {
        "id": "kR9Aw-QS5anJ"
      },
      "outputs": [
        {
          "name": "stdout",
          "output_type": "stream",
          "text": [
            "Read csv with dask:  2.475955009460449 sec\n"
          ]
        }
      ],
      "source": [
        "start = time.time()\n",
        "dask = dd.read_csv(\"/Users/devinchau/Downloads/students_large.csv\",\n",
        "                   delimiter = config_data['inbound_delimiter'],\n",
        "                   header = 0,\n",
        "                   assume_missing = True)\n",
        "_ = dask.head()\n",
        "end = time.time()\n",
        "print(\"Read csv with dask: \",(end-start),\"sec\")"
      ]
    },
    {
      "cell_type": "markdown",
      "metadata": {
        "id": "iY9BzW8rgt2q"
      },
      "source": [
        "basic validation"
      ]
    },
    {
      "cell_type": "code",
      "execution_count": 45,
      "metadata": {
        "id": "5GhmhGsJDzRh"
      },
      "outputs": [
        {
          "name": "stdout",
          "output_type": "stream",
          "text": [
            "column name and column length validation passed\n",
            "Validation successful with pandas dataframe.\n"
          ]
        }
      ],
      "source": [
        "col_status = util.col_header_val(pandas, config_data)\n",
        "if col_status:\n",
        "    print(\"Validation successful with pandas dataframe.\")\n",
        "else:\n",
        "    print(\"Validation failed with pandas dataframe.\")\n"
      ]
    },
    {
      "cell_type": "markdown",
      "metadata": {
        "id": "NHj6YdfEgvAP"
      },
      "source": [
        "writing the file in pipe separated text file (|) in gz format."
      ]
    },
    {
      "cell_type": "code",
      "execution_count": 44,
      "metadata": {
        "id": "p0CyMIYTEE16"
      },
      "outputs": [
        {
          "name": "stdout",
          "output_type": "stream",
          "text": [
            "File '/Users/devinchau/Downloads/students_large.csv' compressed to 'students_large.csv.gz'\n",
            "Original file size: 2535.73 MB\n",
            "Compressed file size: 1011.12 MB\n"
          ]
        }
      ],
      "source": [
        "import gzip\n",
        "import shutil\n",
        "\n",
        "input_file = \"/Users/devinchau/Downloads/students_large.csv\"\n",
        "output_file = \"students_large.csv.gz\"\n",
        "\n",
        "with open(input_file, 'rb') as f_in:\n",
        "    with gzip.open(output_file, 'wb') as f_out:\n",
        "        shutil.copyfileobj(f_in, f_out)\n",
        "\n",
        "print(f\"File '{input_file}' compressed to '{output_file}'\")\n",
        "print(f\"Original file size: {os.path.getsize(input_file) / (1024 * 1024):.2f} MB\")\n",
        "print(f\"Compressed file size: {os.path.getsize(output_file) / (1024 * 1024):.2f} MB\")"
      ]
    }
  ],
  "metadata": {
    "accelerator": "GPU",
    "colab": {
      "gpuType": "T4",
      "provenance": []
    },
    "kernelspec": {
      "display_name": "Python 3",
      "name": "python3"
    },
    "language_info": {
      "codemirror_mode": {
        "name": "ipython",
        "version": 3
      },
      "file_extension": ".py",
      "mimetype": "text/x-python",
      "name": "python",
      "nbconvert_exporter": "python",
      "pygments_lexer": "ipython3",
      "version": "3.12.8"
    }
  },
  "nbformat": 4,
  "nbformat_minor": 0
}
